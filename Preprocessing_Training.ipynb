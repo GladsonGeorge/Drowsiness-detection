{
 "cells": [
  {
   "cell_type": "code",
   "execution_count": 1,
   "id": "1d418b87",
   "metadata": {
    "tags": []
   },
   "outputs": [],
   "source": [
    "import numpy as np\n",
    "import pandas as pd\n",
    "import matplotlib.pyplot as plt\n",
    "import cv2\n",
    "import os"
   ]
  },
  {
   "cell_type": "code",
   "execution_count": 2,
   "id": "584ea4a0-8139-402a-8086-2a0ebe8c058c",
   "metadata": {
    "tags": []
   },
   "outputs": [],
   "source": [
    "cur_path = os.getcwd()\n",
    "\n",
    "data = []\n",
    "labels = []\n",
    "\n",
    "data_folder = 'Drowsiness_dataset'\n",
    "path = os.path.join(cur_path,data_folder)\n",
    "train = os.listdir(path)"
   ]
  },
  {
   "cell_type": "code",
   "execution_count": 3,
   "id": "5adcf0a0-e65a-4d38-8cd9-94210e00f78f",
   "metadata": {},
   "outputs": [],
   "source": [
    "for label in train :\n",
    "    if \"yawn\" in label :\n",
    "        file_path = os.path.join(path,label)\n",
    "        files = os.listdir(file_path)\n",
    "        for img in files :\n",
    "            obj_path = os.path.join(file_path,img)\n",
    "            image = cv2.imread(obj_path)\n",
    "            width = int(image.shape[1] * 0.5)\n",
    "            height = int(image.shape[0] * 0.5)\n",
    "            dim = (width, height)\n",
    "            resized = cv2.resize(image, dim, interpolation = cv2.INTER_AREA)\n",
    "            gray = cv2.cvtColor(resized, cv2.COLOR_BGR2GRAY)\n",
    "            gray = cv2.equalizeHist(gray)\n",
    "            data.append(np.array(gray))\n",
    "            labels.append(label)"
   ]
  },
  {
   "cell_type": "code",
   "execution_count": 4,
   "id": "931ff746-d5cc-4d51-ba54-b0f2a3608d70",
   "metadata": {},
   "outputs": [
    {
     "name": "stdout",
     "output_type": "stream",
     "text": [
      "(1448, 240, 320)\n",
      "(1448,)\n"
     ]
    }
   ],
   "source": [
    "data = np.array(data)\n",
    "labels = np.array(labels)\n",
    "\n",
    "print(data.shape)\n",
    "print(labels.shape)"
   ]
  },
  {
   "cell_type": "code",
   "execution_count": 5,
   "id": "30cb34b6-ef68-42e3-a04f-ae73cb9510f1",
   "metadata": {},
   "outputs": [],
   "source": [
    "from sklearn.preprocessing import LabelBinarizer\n",
    "from tensorflow.keras.utils import to_categorical\n",
    "from sklearn.model_selection import train_test_split"
   ]
  },
  {
   "cell_type": "code",
   "execution_count": 6,
   "id": "db2c32af-8344-43f7-bd84-ce9e1ceeadc8",
   "metadata": {},
   "outputs": [
    {
     "name": "stdout",
     "output_type": "stream",
     "text": [
      "(1086, 240, 320, 1) (362, 240, 320, 1) (1086, 1) (362, 1)\n"
     ]
    }
   ],
   "source": [
    "data = np.expand_dims(data,axis=3)\n",
    "label_encoding = LabelBinarizer()\n",
    "labels = label_encoding.fit_transform(labels)\n",
    "\n",
    "X_train, X_val, y_train, y_val = train_test_split(data, labels,shuffle=True, stratify=labels, test_size=0.25, random_state=42)\n",
    "print(X_train.shape, X_val.shape, y_train.shape, y_val.shape)\n",
    "\n",
    "y_train = to_categorical(y_train, 2)\n",
    "y_val = to_categorical(y_val, 2)"
   ]
  },
  {
   "cell_type": "code",
   "execution_count": 7,
   "id": "5d4cbdf9-1ffd-4921-8e17-dc387e6b133e",
   "metadata": {},
   "outputs": [],
   "source": [
    "from keras.models import Sequential\n",
    "from keras.layers import Conv2D, MaxPool2D, Dense, Flatten, Dropout, SpatialDropout2D\n",
    "from tensorflow.keras.callbacks import EarlyStopping\n",
    "from tensorflow.keras.metrics import F1Score"
   ]
  },
  {
   "cell_type": "code",
   "execution_count": 11,
   "id": "97592c98-8c19-4fcc-a42b-44aff73d2226",
   "metadata": {},
   "outputs": [
    {
     "name": "stdout",
     "output_type": "stream",
     "text": [
      "Model: \"sequential_1\"\n",
      "_________________________________________________________________\n",
      " Layer (type)                Output Shape              Param #   \n",
      "=================================================================\n",
      " conv2d_2 (Conv2D)           (None, 238, 318, 32)      320       \n",
      "                                                                 \n",
      " max_pooling2d_2 (MaxPoolin  (None, 119, 159, 32)      0         \n",
      " g2D)                                                            \n",
      "                                                                 \n",
      " spatial_dropout2d_2 (Spati  (None, 119, 159, 32)      0         \n",
      " alDropout2D)                                                    \n",
      "                                                                 \n",
      " conv2d_3 (Conv2D)           (None, 115, 155, 16)      12816     \n",
      "                                                                 \n",
      " max_pooling2d_3 (MaxPoolin  (None, 57, 77, 16)        0         \n",
      " g2D)                                                            \n",
      "                                                                 \n",
      " spatial_dropout2d_3 (Spati  (None, 57, 77, 16)        0         \n",
      " alDropout2D)                                                    \n",
      "                                                                 \n",
      " flatten_1 (Flatten)         (None, 70224)             0         \n",
      "                                                                 \n",
      " dense_3 (Dense)             (None, 48)                3370800   \n",
      "                                                                 \n",
      " dropout_2 (Dropout)         (None, 48)                0         \n",
      "                                                                 \n",
      " dense_4 (Dense)             (None, 24)                1176      \n",
      "                                                                 \n",
      " dropout_3 (Dropout)         (None, 24)                0         \n",
      "                                                                 \n",
      " dense_5 (Dense)             (None, 2)                 50        \n",
      "                                                                 \n",
      "=================================================================\n",
      "Total params: 3385162 (12.91 MB)\n",
      "Trainable params: 3385162 (12.91 MB)\n",
      "Non-trainable params: 0 (0.00 Byte)\n",
      "_________________________________________________________________\n"
     ]
    }
   ],
   "source": [
    "model = Sequential()\n",
    "\n",
    "model.add(Conv2D(filters=32, kernel_size=(3, 3), activation='relu', input_shape=X_train.shape[1:]))\n",
    "model.add(MaxPool2D(pool_size=(2, 2)))\n",
    "model.add(SpatialDropout2D(0.25))\n",
    "\n",
    "model.add(Conv2D(filters=16, kernel_size=(5, 5), activation='relu'))\n",
    "model.add(MaxPool2D(pool_size=(2, 2)))\n",
    "model.add(SpatialDropout2D(0.25))\n",
    "\n",
    "model.add(Flatten())\n",
    "model.add(Dense(48, activation='relu'))\n",
    "model.add(Dropout(rate=0.5))\n",
    "\n",
    "model.add(Dense(24, activation='relu'))\n",
    "model.add(Dropout(rate=0.5))\n",
    "\n",
    "model.add(Dense(2, activation='softmax'))\n",
    "model.summary()"
   ]
  },
  {
   "cell_type": "code",
   "execution_count": 12,
   "id": "b1e5c879-b1f2-4cb1-b8a4-23013f9bb389",
   "metadata": {},
   "outputs": [],
   "source": [
    "earlystop = EarlyStopping(monitor='accuracy',mode='max', patience=3,start_from_epoch=8)\n",
    "model.compile(loss='categorical_crossentropy', optimizer='adam', metrics=['accuracy'])"
   ]
  },
  {
   "cell_type": "code",
   "execution_count": 14,
   "id": "17eb6fcd-cd6f-4c6f-a649-4fb564aea22c",
   "metadata": {},
   "outputs": [
    {
     "name": "stdout",
     "output_type": "stream",
     "text": [
      "Epoch 1/64\n",
      "34/34 [==============================] - 21s 621ms/step - loss: 0.1665 - accuracy: 0.9199 - val_loss: 0.2695 - val_accuracy: 0.9171\n",
      "Epoch 2/64\n",
      "34/34 [==============================] - 21s 618ms/step - loss: 0.1210 - accuracy: 0.9383 - val_loss: 0.2941 - val_accuracy: 0.9144\n",
      "Epoch 3/64\n",
      "34/34 [==============================] - 21s 610ms/step - loss: 0.1544 - accuracy: 0.9300 - val_loss: 0.3134 - val_accuracy: 0.9088\n",
      "Epoch 4/64\n",
      "34/34 [==============================] - 21s 615ms/step - loss: 0.1712 - accuracy: 0.9273 - val_loss: 0.2902 - val_accuracy: 0.9171\n",
      "Epoch 5/64\n",
      "34/34 [==============================] - 21s 621ms/step - loss: 0.1402 - accuracy: 0.9328 - val_loss: 0.3223 - val_accuracy: 0.9061\n",
      "Epoch 6/64\n",
      "34/34 [==============================] - 21s 622ms/step - loss: 0.0990 - accuracy: 0.9576 - val_loss: 0.3664 - val_accuracy: 0.9061\n",
      "Epoch 7/64\n",
      "34/34 [==============================] - 21s 629ms/step - loss: 0.1424 - accuracy: 0.9457 - val_loss: 0.2801 - val_accuracy: 0.9088\n",
      "Epoch 8/64\n",
      "34/34 [==============================] - 22s 633ms/step - loss: 0.1159 - accuracy: 0.9457 - val_loss: 0.3487 - val_accuracy: 0.9061\n",
      "Epoch 9/64\n",
      "34/34 [==============================] - 21s 620ms/step - loss: 0.1368 - accuracy: 0.9438 - val_loss: 0.3523 - val_accuracy: 0.9088\n",
      "Epoch 10/64\n",
      "34/34 [==============================] - 21s 625ms/step - loss: 0.1265 - accuracy: 0.9466 - val_loss: 0.3362 - val_accuracy: 0.9061\n",
      "Epoch 11/64\n",
      "34/34 [==============================] - 21s 615ms/step - loss: 0.1169 - accuracy: 0.9466 - val_loss: 0.3209 - val_accuracy: 0.9088\n",
      "Epoch 12/64\n",
      "34/34 [==============================] - 21s 613ms/step - loss: 0.1036 - accuracy: 0.9549 - val_loss: 0.3380 - val_accuracy: 0.9171\n",
      "Epoch 13/64\n",
      "34/34 [==============================] - 21s 615ms/step - loss: 0.1182 - accuracy: 0.9576 - val_loss: 0.3583 - val_accuracy: 0.9116\n",
      "Epoch 14/64\n",
      "34/34 [==============================] - 21s 612ms/step - loss: 0.1411 - accuracy: 0.9475 - val_loss: 0.3561 - val_accuracy: 0.9116\n",
      "Epoch 15/64\n",
      "34/34 [==============================] - 21s 618ms/step - loss: 0.1083 - accuracy: 0.9558 - val_loss: 0.4375 - val_accuracy: 0.9144\n",
      "Epoch 16/64\n",
      "34/34 [==============================] - 21s 619ms/step - loss: 0.1140 - accuracy: 0.9659 - val_loss: 0.4357 - val_accuracy: 0.9061\n",
      "Epoch 17/64\n",
      "34/34 [==============================] - 21s 617ms/step - loss: 0.1270 - accuracy: 0.9503 - val_loss: 0.3302 - val_accuracy: 0.9171\n",
      "Epoch 18/64\n",
      "34/34 [==============================] - 21s 619ms/step - loss: 0.1067 - accuracy: 0.9595 - val_loss: 0.3910 - val_accuracy: 0.9144\n",
      "Epoch 19/64\n",
      "34/34 [==============================] - 21s 620ms/step - loss: 0.1277 - accuracy: 0.9567 - val_loss: 0.3476 - val_accuracy: 0.9254\n"
     ]
    }
   ],
   "source": [
    "epochs = 64\n",
    "history = model.fit(X_train, y_train, batch_size=32, epochs=epochs, validation_data=(X_val, y_val), callbacks=[earlystop])"
   ]
  },
  {
   "cell_type": "code",
   "execution_count": 15,
   "id": "c3117025-671a-4363-a19d-0f23cbdfca5d",
   "metadata": {},
   "outputs": [
    {
     "name": "stdout",
     "output_type": "stream",
     "text": [
      "Epoch 1/64\n",
      "17/17 [==============================] - 21s 1s/step - loss: 0.1133 - accuracy: 0.9475 - val_loss: 0.3258 - val_accuracy: 0.9227\n",
      "Epoch 2/64\n",
      "17/17 [==============================] - 20s 1s/step - loss: 0.1036 - accuracy: 0.9558 - val_loss: 0.3313 - val_accuracy: 0.9171\n",
      "Epoch 3/64\n",
      "17/17 [==============================] - 20s 1s/step - loss: 0.1018 - accuracy: 0.9530 - val_loss: 0.3636 - val_accuracy: 0.9116\n",
      "Epoch 4/64\n",
      "17/17 [==============================] - 20s 1s/step - loss: 0.1203 - accuracy: 0.9466 - val_loss: 0.3572 - val_accuracy: 0.9116\n",
      "Epoch 5/64\n",
      "17/17 [==============================] - 20s 1s/step - loss: 0.0991 - accuracy: 0.9604 - val_loss: 0.3844 - val_accuracy: 0.9144\n",
      "Epoch 6/64\n",
      "17/17 [==============================] - 20s 1s/step - loss: 0.0939 - accuracy: 0.9669 - val_loss: 0.4191 - val_accuracy: 0.9171\n",
      "Epoch 7/64\n",
      "17/17 [==============================] - 20s 1s/step - loss: 0.0742 - accuracy: 0.9715 - val_loss: 0.4229 - val_accuracy: 0.9254\n",
      "Epoch 8/64\n",
      "17/17 [==============================] - 20s 1s/step - loss: 0.0920 - accuracy: 0.9632 - val_loss: 0.4345 - val_accuracy: 0.9227\n",
      "Epoch 9/64\n",
      "17/17 [==============================] - 20s 1s/step - loss: 0.0952 - accuracy: 0.9641 - val_loss: 0.4277 - val_accuracy: 0.9171\n",
      "Epoch 10/64\n",
      "17/17 [==============================] - 20s 1s/step - loss: 0.0898 - accuracy: 0.9586 - val_loss: 0.3739 - val_accuracy: 0.9116\n",
      "Epoch 11/64\n",
      "17/17 [==============================] - 20s 1s/step - loss: 0.0750 - accuracy: 0.9641 - val_loss: 0.3835 - val_accuracy: 0.9227\n",
      "Epoch 12/64\n",
      "17/17 [==============================] - 20s 1s/step - loss: 0.0798 - accuracy: 0.9669 - val_loss: 0.4779 - val_accuracy: 0.9116\n",
      "Epoch 13/64\n",
      "17/17 [==============================] - 20s 1s/step - loss: 0.0757 - accuracy: 0.9650 - val_loss: 0.4768 - val_accuracy: 0.9144\n",
      "Epoch 14/64\n",
      "17/17 [==============================] - 20s 1s/step - loss: 0.0801 - accuracy: 0.9669 - val_loss: 0.4234 - val_accuracy: 0.9199\n",
      "Epoch 15/64\n",
      "17/17 [==============================] - 20s 1s/step - loss: 0.0777 - accuracy: 0.9696 - val_loss: 0.4486 - val_accuracy: 0.9144\n",
      "Epoch 16/64\n",
      "17/17 [==============================] - 20s 1s/step - loss: 0.0699 - accuracy: 0.9724 - val_loss: 0.4203 - val_accuracy: 0.9282\n",
      "Epoch 17/64\n",
      "17/17 [==============================] - 20s 1s/step - loss: 0.0693 - accuracy: 0.9678 - val_loss: 0.4349 - val_accuracy: 0.9227\n",
      "Epoch 18/64\n",
      "17/17 [==============================] - 20s 1s/step - loss: 0.0711 - accuracy: 0.9687 - val_loss: 0.4350 - val_accuracy: 0.9199\n",
      "Epoch 19/64\n",
      "17/17 [==============================] - 20s 1s/step - loss: 0.0823 - accuracy: 0.9604 - val_loss: 0.4282 - val_accuracy: 0.9199\n"
     ]
    }
   ],
   "source": [
    "history_2 = model.fit(X_train, y_train, batch_size=64, epochs=epochs, validation_data=(X_val, y_val), callbacks=[earlystop])"
   ]
  },
  {
   "cell_type": "code",
   "execution_count": 18,
   "id": "16be0057-698b-4df9-8213-2a60376072c5",
   "metadata": {},
   "outputs": [],
   "source": [
    "Model_file_name = \"model.keras\"\n",
    "sav_dir = os.path.join(cur_path,Model_file_name)\n",
    "model.save(sav_dir)"
   ]
  },
  {
   "cell_type": "code",
   "execution_count": null,
   "id": "9ca9a8a2-f42f-4c00-a8bc-ea9b2733ac73",
   "metadata": {},
   "outputs": [],
   "source": []
  }
 ],
 "metadata": {
  "kernelspec": {
   "display_name": "Python 3 (ipykernel)",
   "language": "python",
   "name": "python3"
  },
  "language_info": {
   "codemirror_mode": {
    "name": "ipython",
    "version": 3
   },
   "file_extension": ".py",
   "mimetype": "text/x-python",
   "name": "python",
   "nbconvert_exporter": "python",
   "pygments_lexer": "ipython3",
   "version": "3.10.4"
  }
 },
 "nbformat": 4,
 "nbformat_minor": 5
}
